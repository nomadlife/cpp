{
 "cells": [
  {
   "cell_type": "markdown",
   "metadata": {},
   "source": [
    "## 파일 입출력 \n",
    "ifstream 파일 입력\n",
    "ofstream 파일출력\n",
    "fstream 파일 입력 및 출력\n",
    "\n",
    "## 파일 열기 \n",
    "FILE * fp\n",
    "\n"
   ]
  },
  {
   "cell_type": "code",
   "execution_count": null,
   "metadata": {},
   "outputs": [],
   "source": [
    "// C\n",
    "FILE *fp;"
   ]
  },
  {
   "cell_type": "code",
   "execution_count": null,
   "metadata": {},
   "outputs": [],
   "source": [
    "fp = fopen(\"hello.txt\", \"r\");"
   ]
  },
  {
   "cell_type": "code",
   "execution_count": null,
   "metadata": {},
   "outputs": [],
   "source": [
    "fp = fopen(\"hello.txt\", \"q+\");"
   ]
  },
  {
   "cell_type": "code",
   "execution_count": null,
   "metadata": {},
   "outputs": [],
   "source": [
    "fp = fopen(\"hello.txt\", \"r+\");"
   ]
  },
  {
   "cell_type": "code",
   "execution_count": null,
   "metadata": {},
   "outputs": [],
   "source": [
    "// C++\n",
    "ifstream fin;\n",
    "fin.open\"(hello.txt\");"
   ]
  },
  {
   "cell_type": "code",
   "execution_count": null,
   "metadata": {},
   "outputs": [],
   "source": [
    "ofstream fout;\n",
    "fout.open(\"hello.txt\");"
   ]
  },
  {
   "cell_type": "code",
   "execution_count": null,
   "metadata": {},
   "outputs": [],
   "source": [
    "fstream fs;\n",
    "fs.open(\"helloworld.txt\");"
   ]
  },
  {
   "cell_type": "markdown",
   "metadata": {},
   "source": [
    "## open()"
   ]
  },
  {
   "cell_type": "code",
   "execution_count": null,
   "metadata": {},
   "outputs": [],
   "source": [
    "fin.open(\"hello.txt\", ios_base::in | ios_base::binary );"
   ]
  },
  {
   "cell_type": "code",
   "execution_count": null,
   "metadata": {},
   "outputs": [],
   "source": [
    "// 모드 플래그(mode flag)\n",
    "// 네임 스페이스 \n",
    "// in / out / ate / app / trunc / binary"
   ]
  },
  {
   "cell_type": "code",
   "execution_count": null,
   "metadata": {},
   "outputs": [],
   "source": [
    "ios_base::in // r\n",
    "ios_base::out // w \n",
    "ios_base::out | ios_base::truc // w\n",
    "ios_base::out | ios_base::app // a\n",
    "ios_base::in | ios_base::out // r+\n",
    "ios_base::in | ios_base::out | ios_base::trunc // w+\n"
   ]
  },
  {
   "cell_type": "markdown",
   "metadata": {},
   "source": [
    "## 파일 닫기"
   ]
  },
  {
   "cell_type": "code",
   "execution_count": null,
   "metadata": {},
   "outputs": [],
   "source": [
    "// C\n",
    "FILE *fp;\n",
    "\n",
    "fclose(fp);\n",
    "\n",
    "// c++\n",
    "ifstream fin;\n",
    "\n",
    "fin.close();\n"
   ]
  },
  {
   "cell_type": "markdown",
   "metadata": {},
   "source": [
    "## 스트림 상태 확인하기"
   ]
  },
  {
   "cell_type": "code",
   "execution_count": null,
   "metadata": {},
   "outputs": [],
   "source": [
    "// C\n",
    "FILE *fp\n",
    "fp = fopen(\"file\", \"r+\");\n",
    "\n",
    "if(fp 1= NULL) \n",
    "{\n",
    "    //...\n",
    "}\n",
    "\n",
    "// C++\n",
    "fstream fs ;\n",
    "fs.open(\"file\");\n",
    "\n",
    "if (fs.is_open())\n",
    "{\n",
    "    //...\n",
    "}"
   ]
  },
  {
   "cell_type": "markdown",
   "metadata": {},
   "source": [
    "## close(), is_open()"
   ]
  },
  {
   "cell_type": "code",
   "execution_count": null,
   "metadata": {},
   "outputs": [],
   "source": [
    "fin.close(); // 각 스트림마다 close()메서드가 있음.\n",
    "\n",
    "if(fs.isopen()) { ...} // 열려있음."
   ]
  },
  {
   "cell_type": "markdown",
   "metadata": {},
   "source": [
    "## 파일에서 문자 하나씩 읽기\n"
   ]
  },
  {
   "cell_type": "code",
   "execution_count": null,
   "metadata": {},
   "outputs": [],
   "source": [
    "// C\n",
    "FILE *fp;\n",
    "fp = fopen(\"hello\",\"r\");\n",
    "    \n",
    "char charactor;\n",
    "do\n",
    "{\n",
    "    character = getc(fp);\n",
    "    printf(\"%c\", character);\n",
    "}while (character != EOF);\n",
    "\n",
    "fclose(fp);\n",
    "\n",
    "\n",
    "\n",
    "// C++\n",
    "\n",
    "ifstream fin;\n",
    "fin.open(\"hello.txt\");\n",
    "\n",
    "char character;\n",
    "while (true)\n",
    "{\n",
    "    fin.get(character);\n",
    "    if (fin.fail()) // fail 은 EOF나 마찬가지.\n",
    "    {\n",
    "        break;\n",
    "    }\n",
    "    cout << character;\n",
    "}\n",
    "\n",
    "fin.close();"
   ]
  },
  {
   "cell_type": "markdown",
   "metadata": {},
   "source": [
    "## get(), getline(), >>"
   ]
  },
  {
   "cell_type": "code",
   "execution_count": null,
   "metadata": {},
   "outputs": [],
   "source": [
    "fin.get(character);\n",
    "\n",
    "fin.getline(firstName, 20);  // 파일에서 문자 20개를 읽음\n",
    "getline(fin,line); // 파일에서 한 줄을 읽음\n",
    "\n",
    "fin >> word; // 파일에서 한 단어를 읽음"
   ]
  },
  {
   "cell_type": "markdown",
   "metadata": {},
   "source": [
    "## 파일에서 한줄씩 읽기"
   ]
  },
  {
   "cell_type": "code",
   "execution_count": null,
   "metadata": {},
   "outputs": [],
   "source": [
    "ifstream fin;\n",
    "fin.open(\"hello\");\n",
    "\n",
    "string line;\n",
    "while(!fin.eof())\n",
    "{\n",
    "    getline(fin,line);\n",
    "    cout << line << endl;\n",
    "}\n",
    "\n",
    "fin.close();\n"
   ]
  },
  {
   "cell_type": "code",
   "execution_count": null,
   "metadata": {},
   "outputs": [],
   "source": [
    "while (!fin.eof())\n",
    "{\n",
    "    getline(fin,line);\n",
    "    cout << line << endl;\n",
    "}"
   ]
  },
  {
   "cell_type": "markdown",
   "metadata": {},
   "source": [
    "## 파일에서 한 단어씩 읽기"
   ]
  },
  {
   "cell_type": "code",
   "execution_count": null,
   "metadata": {},
   "outputs": [],
   "source": [
    "using namespace::std;\n",
    "\n",
    "ifstream fin;\n",
    "fin.open(\"hello world.txt\");\n",
    "\n",
    "string name;\n",
    "float balance;\n",
    "while (!fin.eof())\n",
    "{\n",
    "    fin >> name >> balance ;\n",
    "    cout << name << \":$\" << balance << endl;\n",
    "}\n",
    "\n",
    "fin.close();"
   ]
  }
 ],
 "metadata": {
  "kernelspec": {
   "display_name": "C++17",
   "language": "C++17",
   "name": "xeus-cling-cpp17"
  },
  "language_info": {
   "codemirror_mode": "text/x-c++src",
   "file_extension": ".cpp",
   "mimetype": "text/x-c++src",
   "name": "c++",
   "version": "-std=c++17"
  }
 },
 "nbformat": 4,
 "nbformat_minor": 2
}
