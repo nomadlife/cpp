{
 "cells": [
  {
   "cell_type": "markdown",
   "metadata": {},
   "source": [
    "String"
   ]
  },
  {
   "cell_type": "code",
   "execution_count": 9,
   "metadata": {},
   "outputs": [],
   "source": [
    "#include <iostream>"
   ]
  },
  {
   "cell_type": "code",
   "execution_count": 10,
   "metadata": {},
   "outputs": [
    {
     "name": "stderr",
     "output_type": "stream",
     "text": [
      "\u001b[1minput_line_16:3:1: \u001b[0m\u001b[0;1;31merror: \u001b[0m\u001b[1muse of undeclared identifier 'cin'; did you mean 'sin'?\u001b[0m\n",
      "cin.getline(line, 256);\n",
      "\u001b[0;1;32m^~~\n",
      "\u001b[0m\u001b[0;32msin\n",
      "\u001b[0m\u001b[1m/usr/include/x86_64-linux-gnu/bits/mathcalls.h:65:17: \u001b[0m\u001b[0;1;30mnote: \u001b[0m'sin' declared here\u001b[0m\n",
      "__MATHCALL_VEC (sin,, (_Mdouble_ __x));\n",
      "\u001b[0;1;32m                ^\n",
      "\u001b[0m\u001b[1minput_line_16:3:4: \u001b[0m\u001b[0;1;31merror: \u001b[0m\u001b[1mmember reference base type 'double (double) throw()' is not a structure or union\u001b[0m\n",
      "cin.getline(line, 256);\n",
      "\u001b[0;1;32m~~~^~~~~~~~\n",
      "\u001b[0m"
     ]
    },
    {
     "ename": "Interpreter Error",
     "evalue": "",
     "output_type": "error",
     "traceback": [
      "Interpreter Error: "
     ]
    }
   ],
   "source": [
    "char line[256];\n",
    "cin.getline(line, 256);\n",
    "\n",
    "// magic number\n",
    "const int LINE_LENGTH = 256;"
   ]
  },
  {
   "cell_type": "markdown",
   "metadata": {},
   "source": [
    "## std::string 클래스"
   ]
  },
  {
   "cell_type": "code",
   "execution_count": 6,
   "metadata": {},
   "outputs": [],
   "source": [
    "#include <string>\n"
   ]
  },
  {
   "cell_type": "code",
   "execution_count": null,
   "metadata": {},
   "outputs": [],
   "source": [
    "#include <string>\n",
    "std::string firstName;\n",
    "std::cin >> firstName;\n"
   ]
  },
  {
   "cell_type": "markdown",
   "metadata": {},
   "source": [
    "대입과 덧붙이기 (Assignment and Appending)"
   ]
  },
  {
   "cell_type": "code",
   "execution_count": 3,
   "metadata": {},
   "outputs": [
    {
     "name": "stderr",
     "output_type": "stream",
     "text": [
      "\u001b[1minput_line_9:6:18: \u001b[0m\u001b[0;1;31merror: \u001b[0m\u001b[1muse of undeclared identifier 'firstName'; did you mean 'fisrstName'?\u001b[0m\n",
      "strcpy(fullName, firstName);\n",
      "\u001b[0;1;32m                 ^~~~~~~~~\n",
      "\u001b[0m\u001b[0;32m                 fisrstName\n",
      "\u001b[0m\u001b[1minput_line_9:3:6: \u001b[0m\u001b[0;1;30mnote: \u001b[0m'fisrstName' declared here\u001b[0m\n",
      "char fisrstName[20] = \"POPE\";\n",
      "\u001b[0;1;32m     ^\n",
      "\u001b[0m"
     ]
    },
    {
     "ename": "Interpreter Error",
     "evalue": "",
     "output_type": "error",
     "traceback": [
      "Interpreter Error: "
     ]
    }
   ],
   "source": [
    "// C\n",
    "char fisrstName[20] = \"POPE\";\n",
    "char fullName[20];\n",
    "\n",
    "// 대입 - 안전하지 않음\n",
    "strcpy(fullName, firstName);\n",
    "// 추가 - 안전하지 않음\n",
    "strcat(fullName, \" Kim\");"
   ]
  },
  {
   "cell_type": "markdown",
   "metadata": {},
   "source": [
    "## 문자열 합치기"
   ]
  },
  {
   "cell_type": "markdown",
   "metadata": {},
   "source": [
    "## 비교 연산자"
   ]
  },
  {
   "cell_type": "code",
   "execution_count": null,
   "metadata": {},
   "outputs": [],
   "source": [
    "// c\n",
    "strcmp(,)"
   ]
  },
  {
   "cell_type": "code",
   "execution_count": null,
   "metadata": {},
   "outputs": [],
   "source": [
    "// c++\n",
    "// > < <= >= == !=\n",
    "// 가독성 중요\n"
   ]
  },
  {
   "cell_type": "markdown",
   "metadata": {},
   "source": [
    "## size(). length(), c_str()"
   ]
  },
  {
   "cell_type": "code",
   "execution_count": null,
   "metadata": {},
   "outputs": [],
   "source": [
    "cout << firstName.size() << endl;\n",
    "cout << firstName.length() << endl;"
   ]
  },
  {
   "cell_type": "code",
   "execution_count": null,
   "metadata": {},
   "outputs": [],
   "source": [
    "const char*\n",
    "string line;\n",
    "cin >> line;\n",
    "const char* cLine = line.c_str();"
   ]
  },
  {
   "cell_type": "markdown",
   "metadata": {},
   "source": [
    "## string 속의 한 문자에 접근하기"
   ]
  },
  {
   "cell_type": "code",
   "execution_count": null,
   "metadata": {},
   "outputs": [],
   "source": [
    "// c와 같음\n",
    "string firstName = \"POKE\";\n",
    "char letter = firstName[1];\n",
    "\n",
    "firstName[2] = 'P'; // 함수인데, 참조로 반환했기 때문에, 결과를 거꾸로 대입할수 있음."
   ]
  },
  {
   "cell_type": "code",
   "execution_count": null,
   "metadata": {},
   "outputs": [],
   "source": [
    "// at() 해당 문자열에서 주어진 위치에 있는 문자를 참조로 반환. 많이 안씀.\n",
    "char letter = fisrstName.at(1);\n",
    "firstName.at(2) = 'P';"
   ]
  },
  {
   "cell_type": "markdown",
   "metadata": {},
   "source": [
    "## 한줄읽기 "
   ]
  },
  {
   "cell_type": "code",
   "execution_count": null,
   "metadata": {},
   "outputs": [],
   "source": [
    "string mailHeader;\n",
    "getline(cin, mailHeader);\n",
    "getline(cin, ailHeader, '@')"
   ]
  },
  {
   "cell_type": "markdown",
   "metadata": {},
   "source": [
    "<sstream>"
   ]
  },
  {
   "cell_type": "code",
   "execution_count": null,
   "metadata": {},
   "outputs": [],
   "source": [
    "std::istringstream\n",
    "cin 과 비슷.  sscanf() 와 비슷 "
   ]
  },
  {
   "cell_type": "code",
   "execution_count": null,
   "metadata": {},
   "outputs": [],
   "source": [
    "std::ostringstream\n",
    "cout과 비슷. sprintf()와 비슷."
   ]
  },
  {
   "cell_type": "code",
   "execution_count": null,
   "metadata": {},
   "outputs": [],
   "source": [
    "cout, cin도 스트림"
   ]
  },
  {
   "cell_type": "code",
   "execution_count": null,
   "metadata": {},
   "outputs": [],
   "source": [
    "성능때문에 여전히 sprintf 와 char[] 많이 씀."
   ]
  },
  {
   "cell_type": "markdown",
   "metadata": {},
   "source": [
    "문자열 뒤집어붙이기. "
   ]
  },
  {
   "cell_type": "code",
   "execution_count": null,
   "metadata": {},
   "outputs": [],
   "source": [
    "void MirrorStringEzample()\n",
    "{\n",
    "    cout << \"+=========================+\" << endl;\n",
    "    cout << \"|  Mirror String Example  |\" << endl;\n",
    "    cout << \"+=========================+\" << endl;\n",
    "    string line = \"Hello world!\";\n",
    "    cout << \"string to mirror:\" << line << endl;\n",
    "    \n",
    "    for (int i= (int)line.size() - 1; i<=0; --i)\n",
    "    line += line[i]\n",
    "        \n",
    "}"
   ]
  },
  {
   "cell_type": "code",
   "execution_count": null,
   "metadata": {},
   "outputs": [],
   "source": []
  },
  {
   "cell_type": "code",
   "execution_count": 1,
   "metadata": {},
   "outputs": [],
   "source": [
    "#include <sstream>\n",
    "#include <iostream>"
   ]
  },
  {
   "cell_type": "code",
   "execution_count": null,
   "metadata": {},
   "outputs": [],
   "source": [
    "char line[256];"
   ]
  },
  {
   "cell_type": "code",
   "execution_count": 2,
   "metadata": {
    "scrolled": true
   },
   "outputs": [
    {
     "name": "stderr",
     "output_type": "stream",
     "text": [
      "\u001b[1minput_line_8:2:2: \u001b[0m\u001b[0;1;31merror: \u001b[0m\u001b[1muse of undeclared identifier 'cin'; did you mean 'sin'?\u001b[0m\n",
      " cin.getline(line, 256);\n",
      "\u001b[0;1;32m ^~~\n",
      "\u001b[0m\u001b[0;32m sin\n",
      "\u001b[0m\u001b[1m/usr/include/x86_64-linux-gnu/bits/mathcalls.h:65:17: \u001b[0m\u001b[0;1;30mnote: \u001b[0m'sin' declared here\u001b[0m\n",
      "__MATHCALL_VEC (sin,, (_Mdouble_ __x));\n",
      "\u001b[0;1;32m                ^\n",
      "\u001b[0m\u001b[1minput_line_8:2:5: \u001b[0m\u001b[0;1;31merror: \u001b[0m\u001b[1mmember reference base type 'double (double) throw()' is not a structure or union\u001b[0m\n",
      " cin.getline(line, 256);\n",
      "\u001b[0;1;32m ~~~^~~~~~~~\n",
      "\u001b[0m\u001b[1minput_line_8:2:14: \u001b[0m\u001b[0;1;31merror: \u001b[0m\u001b[1muse of undeclared identifier 'line'\u001b[0m\n",
      " cin.getline(line, 256);\n",
      "\u001b[0;1;32m             ^\n",
      "\u001b[0m"
     ]
    },
    {
     "ename": "Interpreter Error",
     "evalue": "",
     "output_type": "error",
     "traceback": [
      "Interpreter Error: "
     ]
    }
   ],
   "source": [
    "cin.getline(line, 256);"
   ]
  },
  {
   "cell_type": "code",
   "execution_count": null,
   "metadata": {
    "scrolled": true
   },
   "outputs": [],
   "source": [
    "std::istringstream"
   ]
  }
 ],
 "metadata": {
  "kernelspec": {
   "display_name": "C++14",
   "language": "C++14",
   "name": "xeus-cling-cpp14"
  },
  "language_info": {
   "codemirror_mode": "text/x-c++src",
   "file_extension": ".cpp",
   "mimetype": "text/x-c++src",
   "name": "c++",
   "version": "-std=c++14"
  }
 },
 "nbformat": 4,
 "nbformat_minor": 2
}
